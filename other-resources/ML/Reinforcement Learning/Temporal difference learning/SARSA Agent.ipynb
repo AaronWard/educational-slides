{
 "cells": [
  {
   "cell_type": "markdown",
   "metadata": {},
   "source": [
    "# DAT257x: Reinforcement Learning Explained\n",
    "\n",
    "## Lab 5: Temporal Difference Learning\n",
    "\n",
    "### Exercise 5.2: SARSA Agent"
   ]
  },
  {
   "cell_type": "code",
   "execution_count": 1,
   "metadata": {},
   "outputs": [
    {
     "ename": "ModuleNotFoundError",
     "evalue": "No module named 'lib'",
     "output_type": "error",
     "traceback": [
      "\u001b[0;31m---------------------------------------------------------------------------\u001b[0m",
      "\u001b[0;31mModuleNotFoundError\u001b[0m                       Traceback (most recent call last)",
      "\u001b[0;32m<ipython-input-1-baec84c48476>\u001b[0m in \u001b[0;36m<module>\u001b[0;34m\u001b[0m\n\u001b[1;32m      5\u001b[0m     \u001b[0msys\u001b[0m\u001b[0;34m.\u001b[0m\u001b[0mpath\u001b[0m\u001b[0;34m.\u001b[0m\u001b[0mappend\u001b[0m\u001b[0;34m(\u001b[0m\u001b[0;34m\"../\"\u001b[0m\u001b[0;34m)\u001b[0m\u001b[0;34m\u001b[0m\u001b[0;34m\u001b[0m\u001b[0m\n\u001b[1;32m      6\u001b[0m \u001b[0;34m\u001b[0m\u001b[0m\n\u001b[0;32m----> 7\u001b[0;31m \u001b[0;32mfrom\u001b[0m \u001b[0mlib\u001b[0m\u001b[0;34m.\u001b[0m\u001b[0menvs\u001b[0m\u001b[0;34m.\u001b[0m\u001b[0msimple_rooms\u001b[0m \u001b[0;32mimport\u001b[0m \u001b[0mSimpleRoomsEnv\u001b[0m\u001b[0;34m\u001b[0m\u001b[0;34m\u001b[0m\u001b[0m\n\u001b[0m\u001b[1;32m      8\u001b[0m \u001b[0;32mfrom\u001b[0m \u001b[0mlib\u001b[0m\u001b[0;34m.\u001b[0m\u001b[0menvs\u001b[0m\u001b[0;34m.\u001b[0m\u001b[0mwindy_gridworld\u001b[0m \u001b[0;32mimport\u001b[0m \u001b[0mWindyGridworldEnv\u001b[0m\u001b[0;34m\u001b[0m\u001b[0;34m\u001b[0m\u001b[0m\n\u001b[1;32m      9\u001b[0m \u001b[0;32mfrom\u001b[0m \u001b[0mlib\u001b[0m\u001b[0;34m.\u001b[0m\u001b[0menvs\u001b[0m\u001b[0;34m.\u001b[0m\u001b[0mcliff_walking\u001b[0m \u001b[0;32mimport\u001b[0m \u001b[0mCliffWalkingEnv\u001b[0m\u001b[0;34m\u001b[0m\u001b[0;34m\u001b[0m\u001b[0m\n",
      "\u001b[0;31mModuleNotFoundError\u001b[0m: No module named 'lib'"
     ]
    }
   ],
   "source": [
    "import numpy as np\n",
    "import sys\n",
    "\n",
    "if \"../\" not in sys.path:\n",
    "    sys.path.append(\"../\") \n",
    "    \n",
    "from lib.envs.simple_rooms import SimpleRoomsEnv\n",
    "from lib.envs.windy_gridworld import WindyGridworldEnv\n",
    "from lib.envs.cliff_walking import CliffWalkingEnv\n",
    "from lib.simulation import Experiment"
   ]
  },
  {
   "cell_type": "code",
   "execution_count": 2,
   "metadata": {},
   "outputs": [],
   "source": [
    "class Agent(object):  \n",
    "        \n",
    "    def __init__(self, actions):\n",
    "        self.actions = actions\n",
    "        self.num_actions = len(actions)\n",
    "\n",
    "    def act(self, state):\n",
    "        raise NotImplementedError"
   ]
  },
  {
   "cell_type": "code",
   "execution_count": null,
   "metadata": {},
   "outputs": [],
   "source": [
    "class SarsaAgent(Agent):\n",
    "    \n",
    "    def __init__(self, actions, epsilon=0.01, alpha=0.5, gamma=1):\n",
    "        super(SarsaAgent, self).__init__(actions)\n",
    "        \n",
    "        ## TODO 1\n",
    "        ## Initialize empty dictionary here\n",
    "        ## In addition, initialize the value of epsilon, alpha and gamma\n",
    "        \n",
    "    def stateToString(self, state):\n",
    "        mystring = \"\"\n",
    "        if np.isscalar(state):\n",
    "            mystring = str(state)\n",
    "        else:\n",
    "            for digit in state:\n",
    "                mystring += str(digit)\n",
    "        return mystring    \n",
    "    \n",
    "    def act(self, state):\n",
    "        stateStr = self.stateToString(state)      \n",
    "        action = np.random.randint(0, self.num_actions) \n",
    "        \n",
    "        ## TODO 2\n",
    "        ## Implement epsilon greedy policy here\n",
    "        \n",
    "        return action\n",
    "\n",
    "    def learn(self, state1, action1, reward, state2, action2):\n",
    "        state1Str = self.stateToString(state1)\n",
    "        state2Str = self.stateToString(state2)\n",
    "        \n",
    "        ## TODO 3\n",
    "        ## Implement the sarsa update here\n",
    "        \n",
    "        \"\"\"\n",
    "        SARSA Update\n",
    "        Q(s,a) <- Q(s,a) + alpha * (reward + gamma * Q(s',a') - Q(s,a))\n",
    "        or\n",
    "        Q(s,a) <- Q(s,a) + alpha * (td_target - Q(s,a))\n",
    "        or\n",
    "        Q(s,a) <- Q(s,a) + alpha * td_delta\n",
    "        \"\"\""
   ]
  },
  {
   "cell_type": "code",
   "execution_count": null,
   "metadata": {},
   "outputs": [],
   "source": [
    "interactive = True\n",
    "%matplotlib nbagg\n",
    "env = SimpleRoomsEnv()\n",
    "agent = SarsaAgent(range(env.action_space.n))\n",
    "experiment = Experiment(env, agent)\n",
    "experiment.run_sarsa(10, interactive)"
   ]
  },
  {
   "cell_type": "code",
   "execution_count": null,
   "metadata": {},
   "outputs": [],
   "source": [
    "interactive = False\n",
    "%matplotlib inline\n",
    "env = SimpleRoomsEnv()\n",
    "agent = SarsaAgent(range(env.action_space.n))\n",
    "experiment = Experiment(env, agent)\n",
    "experiment.run_sarsa(50, interactive)"
   ]
  },
  {
   "cell_type": "code",
   "execution_count": null,
   "metadata": {},
   "outputs": [],
   "source": [
    "interactive = True\n",
    "%matplotlib nbagg\n",
    "env = CliffWalkingEnv()\n",
    "agent = SarsaAgent(range(env.action_space.n))\n",
    "experiment = Experiment(env, agent)\n",
    "experiment.run_sarsa(10, interactive)"
   ]
  },
  {
   "cell_type": "code",
   "execution_count": null,
   "metadata": {},
   "outputs": [],
   "source": [
    "interactive = False\n",
    "%matplotlib inline\n",
    "env = CliffWalkingEnv()\n",
    "agent = SarsaAgent(range(env.action_space.n))\n",
    "experiment = Experiment(env, agent)\n",
    "experiment.run_sarsa(100, interactive)"
   ]
  },
  {
   "cell_type": "code",
   "execution_count": null,
   "metadata": {},
   "outputs": [],
   "source": [
    "interactive = False\n",
    "%matplotlib inline\n",
    "env = WindyGridworldEnv()\n",
    "agent = SarsaAgent(range(env.action_space.n))\n",
    "experiment = Experiment(env, agent)\n",
    "experiment.run_sarsa(50, interactive)"
   ]
  }
 ],
 "metadata": {
  "kernelspec": {
   "display_name": "Python 3",
   "language": "python",
   "name": "python3"
  },
  "language_info": {
   "codemirror_mode": {
    "name": "ipython",
    "version": 3
   },
   "file_extension": ".py",
   "mimetype": "text/x-python",
   "name": "python",
   "nbconvert_exporter": "python",
   "pygments_lexer": "ipython3",
   "version": "3.6.8"
  }
 },
 "nbformat": 4,
 "nbformat_minor": 4
}

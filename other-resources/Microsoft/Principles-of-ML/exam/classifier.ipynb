{
 "cells": [
  {
   "cell_type": "code",
   "execution_count": 1,
   "metadata": {},
   "outputs": [],
   "source": [
    "import pandas as pd\n",
    "\n",
    "\n",
    "pd.options.display.max_columns = None\n",
    "pd.set_option('display.max_colwidth', -1)\n",
    "pd.set_option('mode.chained_assignment', None)\n",
    "\n",
    "WORK_CUST = './AdvWorksCusts.csv'\n",
    "AVE_SPEND = './AW_AveMonthSpend.csv'\n",
    "BIKE_BUYER = './AW_BikeBuyer.csv'\n",
    "TEST = './AW_test.csv'\n",
    "\n",
    "LABEL = 'BikeBuyer'"
   ]
  },
  {
   "cell_type": "code",
   "execution_count": 2,
   "metadata": {},
   "outputs": [],
   "source": [
    "work_cust_df = pd.read_csv(WORK_CUST)\n",
    "ave_spend_df = pd.read_csv(AVE_SPEND)\n",
    "bike_buyer_df = pd.read_csv(BIKE_BUYER)\n",
    "\n",
    "val = pd.read_csv(TEST)\n"
   ]
  },
  {
   "cell_type": "markdown",
   "metadata": {},
   "source": [
    "### Feature Engineering"
   ]
  },
  {
   "cell_type": "code",
   "execution_count": 3,
   "metadata": {},
   "outputs": [],
   "source": [
    "#Keep the last record for each unique customerID\n",
    "work_cust_df = work_cust_df.drop_duplicates(subset='CustomerID', keep='last')\n",
    "ave_spend_df = ave_spend_df.drop_duplicates(subset='CustomerID', keep='last')\n",
    "bike_buyer_df = bike_buyer_df.drop_duplicates(subset='CustomerID',keep='last')"
   ]
  },
  {
   "cell_type": "code",
   "execution_count": 4,
   "metadata": {},
   "outputs": [],
   "source": [
    "# Joing 3 dataframes into one DF\n",
    "all_df = pd.merge(work_cust_df, ave_spend_df, left_on=\"CustomerID\", right_on=\"CustomerID\", how='left')\n",
    "all_df = pd.merge(all_df, bike_buyer_df, left_on=\"CustomerID\", right_on=\"CustomerID\", how='left')"
   ]
  },
  {
   "cell_type": "code",
   "execution_count": 5,
   "metadata": {},
   "outputs": [
    {
     "data": {
      "text/html": [
       "<div>\n",
       "<style scoped>\n",
       "    .dataframe tbody tr th:only-of-type {\n",
       "        vertical-align: middle;\n",
       "    }\n",
       "\n",
       "    .dataframe tbody tr th {\n",
       "        vertical-align: top;\n",
       "    }\n",
       "\n",
       "    .dataframe thead th {\n",
       "        text-align: right;\n",
       "    }\n",
       "</style>\n",
       "<table border=\"1\" class=\"dataframe\">\n",
       "  <thead>\n",
       "    <tr style=\"text-align: right;\">\n",
       "      <th></th>\n",
       "      <th>CustomerID</th>\n",
       "      <th>Title</th>\n",
       "      <th>FirstName</th>\n",
       "      <th>MiddleName</th>\n",
       "      <th>LastName</th>\n",
       "      <th>Suffix</th>\n",
       "      <th>AddressLine1</th>\n",
       "      <th>AddressLine2</th>\n",
       "      <th>City</th>\n",
       "      <th>StateProvinceName</th>\n",
       "      <th>CountryRegionName</th>\n",
       "      <th>PostalCode</th>\n",
       "      <th>PhoneNumber</th>\n",
       "      <th>BirthDate</th>\n",
       "      <th>Education</th>\n",
       "      <th>Occupation</th>\n",
       "      <th>Gender</th>\n",
       "      <th>MaritalStatus</th>\n",
       "      <th>HomeOwnerFlag</th>\n",
       "      <th>NumberCarsOwned</th>\n",
       "      <th>NumberChildrenAtHome</th>\n",
       "      <th>TotalChildren</th>\n",
       "      <th>YearlyIncome</th>\n",
       "      <th>AveMonthSpend</th>\n",
       "      <th>BikeBuyer</th>\n",
       "    </tr>\n",
       "  </thead>\n",
       "  <tbody>\n",
       "    <tr>\n",
       "      <th>0</th>\n",
       "      <td>11000</td>\n",
       "      <td>NaN</td>\n",
       "      <td>Jon</td>\n",
       "      <td>V</td>\n",
       "      <td>Yang</td>\n",
       "      <td>NaN</td>\n",
       "      <td>3761 N. 14th St</td>\n",
       "      <td>NaN</td>\n",
       "      <td>Rockhampton</td>\n",
       "      <td>Queensland</td>\n",
       "      <td>Australia</td>\n",
       "      <td>4700</td>\n",
       "      <td>1 (11) 500 555-0162</td>\n",
       "      <td>1966-04-08</td>\n",
       "      <td>Bachelors</td>\n",
       "      <td>Professional</td>\n",
       "      <td>M</td>\n",
       "      <td>M</td>\n",
       "      <td>1</td>\n",
       "      <td>0</td>\n",
       "      <td>0</td>\n",
       "      <td>2</td>\n",
       "      <td>137947</td>\n",
       "      <td>89</td>\n",
       "      <td>0</td>\n",
       "    </tr>\n",
       "    <tr>\n",
       "      <th>1</th>\n",
       "      <td>11001</td>\n",
       "      <td>NaN</td>\n",
       "      <td>Eugene</td>\n",
       "      <td>L</td>\n",
       "      <td>Huang</td>\n",
       "      <td>NaN</td>\n",
       "      <td>2243 W St.</td>\n",
       "      <td>NaN</td>\n",
       "      <td>Seaford</td>\n",
       "      <td>Victoria</td>\n",
       "      <td>Australia</td>\n",
       "      <td>3198</td>\n",
       "      <td>1 (11) 500 555-0110</td>\n",
       "      <td>1965-05-14</td>\n",
       "      <td>Bachelors</td>\n",
       "      <td>Professional</td>\n",
       "      <td>M</td>\n",
       "      <td>S</td>\n",
       "      <td>0</td>\n",
       "      <td>1</td>\n",
       "      <td>3</td>\n",
       "      <td>3</td>\n",
       "      <td>101141</td>\n",
       "      <td>117</td>\n",
       "      <td>1</td>\n",
       "    </tr>\n",
       "  </tbody>\n",
       "</table>\n",
       "</div>"
      ],
      "text/plain": [
       "   CustomerID Title FirstName MiddleName LastName Suffix     AddressLine1  \\\n",
       "0  11000       NaN   Jon       V          Yang     NaN    3761 N. 14th St   \n",
       "1  11001       NaN   Eugene    L          Huang    NaN    2243 W St.        \n",
       "\n",
       "  AddressLine2         City StateProvinceName CountryRegionName PostalCode  \\\n",
       "0  NaN          Rockhampton  Queensland        Australia         4700        \n",
       "1  NaN          Seaford      Victoria          Australia         3198        \n",
       "\n",
       "           PhoneNumber   BirthDate   Education    Occupation Gender  \\\n",
       "0  1 (11) 500 555-0162  1966-04-08  Bachelors   Professional  M       \n",
       "1  1 (11) 500 555-0110  1965-05-14  Bachelors   Professional  M       \n",
       "\n",
       "  MaritalStatus  HomeOwnerFlag  NumberCarsOwned  NumberChildrenAtHome  \\\n",
       "0  M             1              0                0                      \n",
       "1  S             0              1                3                      \n",
       "\n",
       "   TotalChildren  YearlyIncome  AveMonthSpend  BikeBuyer  \n",
       "0  2              137947        89             0          \n",
       "1  3              101141        117            1          "
      ]
     },
     "execution_count": 5,
     "metadata": {},
     "output_type": "execute_result"
    }
   ],
   "source": [
    "all_df.head(2)"
   ]
  },
  {
   "cell_type": "code",
   "execution_count": 6,
   "metadata": {},
   "outputs": [
    {
     "data": {
      "text/html": [
       "<div>\n",
       "<style scoped>\n",
       "    .dataframe tbody tr th:only-of-type {\n",
       "        vertical-align: middle;\n",
       "    }\n",
       "\n",
       "    .dataframe tbody tr th {\n",
       "        vertical-align: top;\n",
       "    }\n",
       "\n",
       "    .dataframe thead th {\n",
       "        text-align: right;\n",
       "    }\n",
       "</style>\n",
       "<table border=\"1\" class=\"dataframe\">\n",
       "  <thead>\n",
       "    <tr style=\"text-align: right;\">\n",
       "      <th></th>\n",
       "      <th>CustomerID</th>\n",
       "      <th>Title</th>\n",
       "      <th>FirstName</th>\n",
       "      <th>MiddleName</th>\n",
       "      <th>LastName</th>\n",
       "      <th>Suffix</th>\n",
       "      <th>AddressLine1</th>\n",
       "      <th>AddressLine2</th>\n",
       "      <th>City</th>\n",
       "      <th>StateProvinceName</th>\n",
       "      <th>CountryRegionName</th>\n",
       "      <th>PostalCode</th>\n",
       "      <th>PhoneNumber</th>\n",
       "      <th>BirthDate</th>\n",
       "      <th>Education</th>\n",
       "      <th>Occupation</th>\n",
       "      <th>Gender</th>\n",
       "      <th>MaritalStatus</th>\n",
       "      <th>HomeOwnerFlag</th>\n",
       "      <th>NumberCarsOwned</th>\n",
       "      <th>NumberChildrenAtHome</th>\n",
       "      <th>TotalChildren</th>\n",
       "      <th>YearlyIncome</th>\n",
       "    </tr>\n",
       "  </thead>\n",
       "  <tbody>\n",
       "    <tr>\n",
       "      <th>0</th>\n",
       "      <td>18988</td>\n",
       "      <td>NaN</td>\n",
       "      <td>Courtney</td>\n",
       "      <td>A</td>\n",
       "      <td>Baker</td>\n",
       "      <td>NaN</td>\n",
       "      <td>8727 Buena Vista Ave.</td>\n",
       "      <td>NaN</td>\n",
       "      <td>Fremont</td>\n",
       "      <td>California</td>\n",
       "      <td>United States</td>\n",
       "      <td>94536</td>\n",
       "      <td>133-555-0128</td>\n",
       "      <td>1/5/1945</td>\n",
       "      <td>Bachelors</td>\n",
       "      <td>Management</td>\n",
       "      <td>F</td>\n",
       "      <td>S</td>\n",
       "      <td>0</td>\n",
       "      <td>2</td>\n",
       "      <td>0</td>\n",
       "      <td>5</td>\n",
       "      <td>86931</td>\n",
       "    </tr>\n",
       "    <tr>\n",
       "      <th>1</th>\n",
       "      <td>29135</td>\n",
       "      <td>NaN</td>\n",
       "      <td>Adam</td>\n",
       "      <td>C</td>\n",
       "      <td>Allen</td>\n",
       "      <td>NaN</td>\n",
       "      <td>3491 Cook Street</td>\n",
       "      <td>NaN</td>\n",
       "      <td>Haney</td>\n",
       "      <td>British Columbia</td>\n",
       "      <td>Canada</td>\n",
       "      <td>V2W 1W2</td>\n",
       "      <td>252-555-0173</td>\n",
       "      <td>10/4/1964</td>\n",
       "      <td>Bachelors</td>\n",
       "      <td>Skilled Manual</td>\n",
       "      <td>M</td>\n",
       "      <td>M</td>\n",
       "      <td>1</td>\n",
       "      <td>2</td>\n",
       "      <td>2</td>\n",
       "      <td>4</td>\n",
       "      <td>100125</td>\n",
       "    </tr>\n",
       "  </tbody>\n",
       "</table>\n",
       "</div>"
      ],
      "text/plain": [
       "   CustomerID Title FirstName MiddleName LastName Suffix  \\\n",
       "0  18988       NaN   Courtney  A          Baker    NaN     \n",
       "1  29135       NaN   Adam      C          Allen    NaN     \n",
       "\n",
       "            AddressLine1 AddressLine2     City StateProvinceName  \\\n",
       "0  8727 Buena Vista Ave.  NaN          Fremont  California         \n",
       "1  3491 Cook Street       NaN          Haney    British Columbia   \n",
       "\n",
       "  CountryRegionName PostalCode   PhoneNumber  BirthDate   Education  \\\n",
       "0  United States     94536      133-555-0128  1/5/1945   Bachelors    \n",
       "1  Canada            V2W 1W2    252-555-0173  10/4/1964  Bachelors    \n",
       "\n",
       "       Occupation Gender MaritalStatus  HomeOwnerFlag  NumberCarsOwned  \\\n",
       "0  Management      F      S             0              2                 \n",
       "1  Skilled Manual  M      M             1              2                 \n",
       "\n",
       "   NumberChildrenAtHome  TotalChildren  YearlyIncome  \n",
       "0  0                     5              86931         \n",
       "1  2                     4              100125        "
      ]
     },
     "execution_count": 6,
     "metadata": {},
     "output_type": "execute_result"
    }
   ],
   "source": [
    "val.head(2)"
   ]
  },
  {
   "cell_type": "code",
   "execution_count": 7,
   "metadata": {},
   "outputs": [],
   "source": [
    "keep_cols = ['CustomerID', 'CountryRegionName', 'BirthDate', \n",
    "             'Education', 'Occupation',\n",
    "             'Gender', 'MaritalStatus', 'HomeOwnerFlag', 'NumberCarsOwned',\n",
    "             'NumberChildrenAtHome', 'TotalChildren', \n",
    "             'YearlyIncome', 'BikeBuyer']\n",
    "\n",
    "keep_cols_val = ['CustomerID', 'CountryRegionName', 'BirthDate', \n",
    "             'Education', 'Occupation',\n",
    "             'Gender', 'MaritalStatus', 'HomeOwnerFlag', 'NumberCarsOwned',\n",
    "             'NumberChildrenAtHome', 'TotalChildren', \n",
    "             'YearlyIncome']"
   ]
  },
  {
   "cell_type": "code",
   "execution_count": 8,
   "metadata": {},
   "outputs": [],
   "source": [
    "df = all_df[keep_cols]\n",
    "val = val[keep_cols_val]"
   ]
  },
  {
   "cell_type": "code",
   "execution_count": 9,
   "metadata": {},
   "outputs": [],
   "source": [
    "from datetime import datetime\n",
    "from datetime import date\n",
    "\n",
    "\n",
    "def calculate_age(born):\n",
    "    try:\n",
    "        born = datetime.strptime(born, \"%Y-%m-%d\").date()\n",
    "        particular_date = datetime(1998, 1, 1)\n",
    "        return particular_date.year - born.year - ((particular_date.month, particular_date.day) < (born.month, born.day))\n",
    "    except:\n",
    "        return 0\n",
    "\n",
    "    \n",
    "def calculate_age_val(born):\n",
    "    try:\n",
    "        born = datetime.strptime(born, \"%d/%m/%Y\").date()\n",
    "        particular_date = datetime(1998, 1, 1)\n",
    "        return particular_date.year - born.year - ((particular_date.month, particular_date.day) < (born.month, born.day))\n",
    "    except:\n",
    "        return 0   \n",
    "    \n",
    "    \n",
    "def age_cat(age):\n",
    "    if age < 25:\n",
    "        return 'under 25'\n",
    "    elif age >= 25 and age <= 45:\n",
    "        \n",
    "        return 'between_25_and_45'\n",
    "    \n",
    "    elif age > 45 and age <= 55:\n",
    "        return 'between_44_and_55'\n",
    "    \n",
    "    elif age > 55:\n",
    "        return 'over_55'\n"
   ]
  },
  {
   "cell_type": "code",
   "execution_count": 10,
   "metadata": {},
   "outputs": [],
   "source": [
    "from sklearn.preprocessing import StandardScaler, MinMaxScaler\n",
    "from pandas.api.types import is_numeric_dtype\n",
    "\n",
    "from sklearn import preprocessing\n",
    "\n",
    "def preprocess(df):\n",
    "    #create age category features\n",
    "    df['age_cat'] = df['age'].apply(age_cat)\n",
    "    df = df.drop('BirthDate',axis = 1)\n",
    "    \n",
    "    #One hot encode categorical features\n",
    "    df = pd.concat([df,pd.get_dummies(df['age_cat'], prefix='category')],axis=1)\n",
    "    df.drop(['age_cat'],axis=1, inplace=True)\n",
    "\n",
    "    df = pd.concat([df,pd.get_dummies(df['CountryRegionName'], prefix='country')],axis=1)\n",
    "    df.drop(['CountryRegionName'],axis=1, inplace=True)    \n",
    "    \n",
    "    df = pd.concat([df,pd.get_dummies(df['Education'], prefix='education')],axis=1)\n",
    "    df.drop(['Education'],axis=1, inplace=True)  \n",
    "    \n",
    "    df = pd.concat([df,pd.get_dummies(df['Occupation'], prefix='job')],axis=1)\n",
    "    df.drop(['Occupation'],axis=1, inplace=True)\n",
    "    \n",
    "    df = pd.concat([df,pd.get_dummies(df['MaritalStatus'], prefix='job')],axis=1)\n",
    "    df.drop(['MaritalStatus'],axis=1, inplace=True)  \n",
    "    \n",
    "    #Fix male/female\n",
    "    df['Gender'] = df['Gender'].apply(lambda x: 'male' if x == 'M' else 'female')\n",
    "    \n",
    "    df = pd.concat([df,pd.get_dummies(df['Gender'], prefix='gender')],axis=1)\n",
    "    df.drop(['Gender'],axis=1, inplace=True)    \n",
    "    \n",
    "    \n",
    "    #Drop any non numeric rows in Income\n",
    "    df = df[df.YearlyIncome != 'Professional']\n",
    "    \n",
    "    df['YearlyIncome'] = df['YearlyIncome'].values.astype(float)\n",
    "\n",
    "    # Create a minimum and maximum processor object\n",
    "    scaler = preprocessing.MinMaxScaler()\n",
    "\n",
    "    df[['YearlyIncome']] = scaler.fit_transform(df[['YearlyIncome']])\n",
    "\n",
    "    df.drop(['CustomerID'],axis=1, inplace=True)    \n",
    "    \n",
    "    return df\n",
    "    \n",
    "\n"
   ]
  },
  {
   "cell_type": "code",
   "execution_count": 11,
   "metadata": {},
   "outputs": [
    {
     "name": "stderr",
     "output_type": "stream",
     "text": [
      "/anaconda3/lib/python3.6/site-packages/pandas/core/ops.py:1649: FutureWarning: elementwise comparison failed; returning scalar instead, but in the future will perform elementwise comparison\n",
      "  result = method(y)\n",
      "/anaconda3/lib/python3.6/site-packages/pandas/core/ops.py:1649: FutureWarning: elementwise comparison failed; returning scalar instead, but in the future will perform elementwise comparison\n",
      "  result = method(y)\n"
     ]
    }
   ],
   "source": [
    "df['age'] = df['BirthDate'].apply(calculate_age)\n",
    "val['age'] = val['BirthDate'].apply(calculate_age_val)\n",
    "\n",
    "df = preprocess(df)\n",
    "val = preprocess(val)"
   ]
  },
  {
   "cell_type": "code",
   "execution_count": 12,
   "metadata": {},
   "outputs": [
    {
     "data": {
      "text/html": [
       "<div>\n",
       "<style scoped>\n",
       "    .dataframe tbody tr th:only-of-type {\n",
       "        vertical-align: middle;\n",
       "    }\n",
       "\n",
       "    .dataframe tbody tr th {\n",
       "        vertical-align: top;\n",
       "    }\n",
       "\n",
       "    .dataframe thead th {\n",
       "        text-align: right;\n",
       "    }\n",
       "</style>\n",
       "<table border=\"1\" class=\"dataframe\">\n",
       "  <thead>\n",
       "    <tr style=\"text-align: right;\">\n",
       "      <th></th>\n",
       "      <th>HomeOwnerFlag</th>\n",
       "      <th>NumberCarsOwned</th>\n",
       "      <th>NumberChildrenAtHome</th>\n",
       "      <th>TotalChildren</th>\n",
       "      <th>YearlyIncome</th>\n",
       "      <th>BikeBuyer</th>\n",
       "      <th>age</th>\n",
       "      <th>category_between_25_and_45</th>\n",
       "      <th>category_between_44_and_55</th>\n",
       "      <th>category_over_55</th>\n",
       "      <th>category_under 25</th>\n",
       "      <th>country_Australia</th>\n",
       "      <th>country_Canada</th>\n",
       "      <th>country_France</th>\n",
       "      <th>country_Germany</th>\n",
       "      <th>country_United Kingdom</th>\n",
       "      <th>country_United States</th>\n",
       "      <th>education_Bachelors</th>\n",
       "      <th>education_Graduate Degree</th>\n",
       "      <th>education_High School</th>\n",
       "      <th>education_Partial College</th>\n",
       "      <th>education_Partial High School</th>\n",
       "      <th>job_Clerical</th>\n",
       "      <th>job_Management</th>\n",
       "      <th>job_Manual</th>\n",
       "      <th>job_Professional</th>\n",
       "      <th>job_Skilled Manual</th>\n",
       "      <th>job_M</th>\n",
       "      <th>job_S</th>\n",
       "      <th>gender_female</th>\n",
       "      <th>gender_male</th>\n",
       "    </tr>\n",
       "  </thead>\n",
       "  <tbody>\n",
       "    <tr>\n",
       "      <th>0</th>\n",
       "      <td>1</td>\n",
       "      <td>0</td>\n",
       "      <td>0</td>\n",
       "      <td>2</td>\n",
       "      <td>0.686872</td>\n",
       "      <td>0</td>\n",
       "      <td>31</td>\n",
       "      <td>1</td>\n",
       "      <td>0</td>\n",
       "      <td>0</td>\n",
       "      <td>0</td>\n",
       "      <td>1</td>\n",
       "      <td>0</td>\n",
       "      <td>0</td>\n",
       "      <td>0</td>\n",
       "      <td>0</td>\n",
       "      <td>0</td>\n",
       "      <td>1</td>\n",
       "      <td>0</td>\n",
       "      <td>0</td>\n",
       "      <td>0</td>\n",
       "      <td>0</td>\n",
       "      <td>0</td>\n",
       "      <td>0</td>\n",
       "      <td>0</td>\n",
       "      <td>1</td>\n",
       "      <td>0</td>\n",
       "      <td>1</td>\n",
       "      <td>0</td>\n",
       "      <td>0</td>\n",
       "      <td>1</td>\n",
       "    </tr>\n",
       "  </tbody>\n",
       "</table>\n",
       "</div>"
      ],
      "text/plain": [
       "   HomeOwnerFlag  NumberCarsOwned  NumberChildrenAtHome  TotalChildren  \\\n",
       "0  1              0                0                     2               \n",
       "\n",
       "   YearlyIncome  BikeBuyer  age  category_between_25_and_45  \\\n",
       "0  0.686872      0          31   1                            \n",
       "\n",
       "   category_between_44_and_55  category_over_55  category_under 25  \\\n",
       "0  0                           0                 0                   \n",
       "\n",
       "   country_Australia  country_Canada  country_France  country_Germany  \\\n",
       "0  1                  0               0               0                 \n",
       "\n",
       "   country_United Kingdom  country_United States  education_Bachelors   \\\n",
       "0  0                       0                      1                      \n",
       "\n",
       "   education_Graduate Degree  education_High School  \\\n",
       "0  0                          0                       \n",
       "\n",
       "   education_Partial College  education_Partial High School  job_Clerical  \\\n",
       "0  0                          0                              0              \n",
       "\n",
       "   job_Management  job_Manual  job_Professional  job_Skilled Manual  job_M  \\\n",
       "0  0               0           1                 0                   1       \n",
       "\n",
       "   job_S  gender_female  gender_male  \n",
       "0  0      0              1            "
      ]
     },
     "execution_count": 12,
     "metadata": {},
     "output_type": "execute_result"
    }
   ],
   "source": [
    "df.head(1)"
   ]
  },
  {
   "cell_type": "code",
   "execution_count": 13,
   "metadata": {},
   "outputs": [
    {
     "data": {
      "text/html": [
       "<div>\n",
       "<style scoped>\n",
       "    .dataframe tbody tr th:only-of-type {\n",
       "        vertical-align: middle;\n",
       "    }\n",
       "\n",
       "    .dataframe tbody tr th {\n",
       "        vertical-align: top;\n",
       "    }\n",
       "\n",
       "    .dataframe thead th {\n",
       "        text-align: right;\n",
       "    }\n",
       "</style>\n",
       "<table border=\"1\" class=\"dataframe\">\n",
       "  <thead>\n",
       "    <tr style=\"text-align: right;\">\n",
       "      <th></th>\n",
       "      <th>HomeOwnerFlag</th>\n",
       "      <th>NumberCarsOwned</th>\n",
       "      <th>NumberChildrenAtHome</th>\n",
       "      <th>TotalChildren</th>\n",
       "      <th>YearlyIncome</th>\n",
       "      <th>age</th>\n",
       "      <th>category_between_25_and_45</th>\n",
       "      <th>category_between_44_and_55</th>\n",
       "      <th>category_over_55</th>\n",
       "      <th>category_under 25</th>\n",
       "      <th>country_Australia</th>\n",
       "      <th>country_Canada</th>\n",
       "      <th>country_France</th>\n",
       "      <th>country_Germany</th>\n",
       "      <th>country_United Kingdom</th>\n",
       "      <th>country_United States</th>\n",
       "      <th>education_Bachelors</th>\n",
       "      <th>education_Graduate Degree</th>\n",
       "      <th>education_High School</th>\n",
       "      <th>education_Partial College</th>\n",
       "      <th>education_Partial High School</th>\n",
       "      <th>job_Clerical</th>\n",
       "      <th>job_Management</th>\n",
       "      <th>job_Manual</th>\n",
       "      <th>job_Professional</th>\n",
       "      <th>job_Skilled Manual</th>\n",
       "      <th>job_M</th>\n",
       "      <th>job_S</th>\n",
       "      <th>gender_female</th>\n",
       "      <th>gender_male</th>\n",
       "    </tr>\n",
       "  </thead>\n",
       "  <tbody>\n",
       "    <tr>\n",
       "      <th>0</th>\n",
       "      <td>0</td>\n",
       "      <td>2</td>\n",
       "      <td>0</td>\n",
       "      <td>5</td>\n",
       "      <td>0.437975</td>\n",
       "      <td>52</td>\n",
       "      <td>0</td>\n",
       "      <td>1</td>\n",
       "      <td>0</td>\n",
       "      <td>0</td>\n",
       "      <td>0</td>\n",
       "      <td>0</td>\n",
       "      <td>0</td>\n",
       "      <td>0</td>\n",
       "      <td>0</td>\n",
       "      <td>1</td>\n",
       "      <td>1</td>\n",
       "      <td>0</td>\n",
       "      <td>0</td>\n",
       "      <td>0</td>\n",
       "      <td>0</td>\n",
       "      <td>0</td>\n",
       "      <td>1</td>\n",
       "      <td>0</td>\n",
       "      <td>0</td>\n",
       "      <td>0</td>\n",
       "      <td>0</td>\n",
       "      <td>1</td>\n",
       "      <td>1</td>\n",
       "      <td>0</td>\n",
       "    </tr>\n",
       "  </tbody>\n",
       "</table>\n",
       "</div>"
      ],
      "text/plain": [
       "   HomeOwnerFlag  NumberCarsOwned  NumberChildrenAtHome  TotalChildren  \\\n",
       "0  0              2                0                     5               \n",
       "\n",
       "   YearlyIncome  age  category_between_25_and_45  category_between_44_and_55  \\\n",
       "0  0.437975      52   0                           1                            \n",
       "\n",
       "   category_over_55  category_under 25  country_Australia  country_Canada  \\\n",
       "0  0                 0                  0                  0                \n",
       "\n",
       "   country_France  country_Germany  country_United Kingdom  \\\n",
       "0  0               0                0                        \n",
       "\n",
       "   country_United States  education_Bachelors   education_Graduate Degree  \\\n",
       "0  1                      1                     0                           \n",
       "\n",
       "   education_High School  education_Partial College  \\\n",
       "0  0                      0                           \n",
       "\n",
       "   education_Partial High School  job_Clerical  job_Management  job_Manual  \\\n",
       "0  0                              0             1               0            \n",
       "\n",
       "   job_Professional  job_Skilled Manual  job_M  job_S  gender_female  \\\n",
       "0  0                 0                   0      1      1               \n",
       "\n",
       "   gender_male  \n",
       "0  0            "
      ]
     },
     "execution_count": 13,
     "metadata": {},
     "output_type": "execute_result"
    }
   ],
   "source": [
    "val.head(1)"
   ]
  },
  {
   "cell_type": "markdown",
   "metadata": {},
   "source": [
    "### Modelling"
   ]
  },
  {
   "cell_type": "code",
   "execution_count": 546,
   "metadata": {},
   "outputs": [],
   "source": [
    "feature_cols = ['HomeOwnerFlag', 'NumberCarsOwned', 'NumberChildrenAtHome',\n",
    "               'TotalChildren', 'YearlyIncome', 'age',\n",
    "               'category_between_25_and_45', 'category_between_44_and_55',\n",
    "               'category_over_55', 'category_under 25', 'country_Australia',\n",
    "               'country_Canada', 'country_France', 'country_Germany',\n",
    "               'country_United Kingdom', 'country_United States',\n",
    "               'education_Bachelors ', 'education_Graduate Degree',\n",
    "               'education_High School', 'education_Partial College',\n",
    "               'education_Partial High School', 'job_Clerical', 'job_Management',\n",
    "               'job_Manual', 'job_Professional', 'job_Skilled Manual', 'job_M',\n",
    "               'job_S', 'gender_female', 'gender_male']"
   ]
  },
  {
   "cell_type": "code",
   "execution_count": null,
   "metadata": {},
   "outputs": [],
   "source": []
  },
  {
   "cell_type": "code",
   "execution_count": 549,
   "metadata": {},
   "outputs": [
    {
     "name": "stdout",
     "output_type": "stream",
     "text": [
      "1    5455\n",
      "0    5455\n",
      "Name: BikeBuyer, dtype: int64\n"
     ]
    }
   ],
   "source": [
    "from sklearn.model_selection import train_test_split\n",
    "from sklearn.utils import resample\n",
    "\n",
    "#Balance Dataset\n",
    "# Separate majority and minority classes\n",
    "df_majority = df[df.BikeBuyer==0]\n",
    "df_minority = df[df.BikeBuyer==1]\n",
    " \n",
    "# Downsample majority class\n",
    "df_majority_downsampled = resample(df_majority, \n",
    "                                 replace=False,\n",
    "                                 n_samples=len(df_minority)) \n",
    " \n",
    "# Combine minority class with downsampled majority class\n",
    "df_downsampled = pd.concat([df_majority_downsampled, df_minority])\n",
    " \n",
    "# Display new class counts\n",
    "print(df_downsampled.BikeBuyer.value_counts())\n",
    "\n",
    "\n",
    "\n",
    "\n",
    "\n",
    "X = df_downsampled[feature_cols] \n",
    "y = df_downsampled[LABEL]\n",
    "\n",
    "X_train, X_test, y_train, y_test = train_test_split(X, y, test_size = 0.20)"
   ]
  },
  {
   "cell_type": "markdown",
   "metadata": {},
   "source": [
    "## SVM"
   ]
  },
  {
   "cell_type": "code",
   "execution_count": 550,
   "metadata": {},
   "outputs": [
    {
     "data": {
      "text/plain": [
       "SVC(C=1.0, cache_size=200, class_weight=None, coef0=0.0,\n",
       "    decision_function_shape='ovr', degree=3, gamma='auto_deprecated',\n",
       "    kernel='linear', max_iter=-1, probability=False, random_state=None,\n",
       "    shrinking=True, tol=0.001, verbose=False)"
      ]
     },
     "execution_count": 550,
     "metadata": {},
     "output_type": "execute_result"
    }
   ],
   "source": [
    "from sklearn.svm import SVC\n",
    "svclassifier = SVC(kernel='linear')\n",
    "svclassifier.fit(X_train, y_train)"
   ]
  },
  {
   "cell_type": "code",
   "execution_count": 551,
   "metadata": {},
   "outputs": [],
   "source": [
    "y_pred = svclassifier.predict(X_test)\n"
   ]
  },
  {
   "cell_type": "code",
   "execution_count": 552,
   "metadata": {},
   "outputs": [
    {
     "name": "stdout",
     "output_type": "stream",
     "text": [
      "[[846 250]\n",
      " [327 759]]\n",
      "              precision    recall  f1-score   support\n",
      "\n",
      "           0       0.72      0.77      0.75      1096\n",
      "           1       0.75      0.70      0.72      1086\n",
      "\n",
      "    accuracy                           0.74      2182\n",
      "   macro avg       0.74      0.74      0.74      2182\n",
      "weighted avg       0.74      0.74      0.74      2182\n",
      "\n"
     ]
    }
   ],
   "source": [
    "from sklearn.metrics import classification_report, confusion_matrix\n",
    "print(confusion_matrix(y_test,y_pred))\n",
    "print(classification_report(y_test,y_pred))"
   ]
  },
  {
   "cell_type": "markdown",
   "metadata": {},
   "source": [
    "## Neural Network"
   ]
  },
  {
   "cell_type": "code",
   "execution_count": 578,
   "metadata": {},
   "outputs": [],
   "source": [
    "from sklearn.neural_network import MLPClassifier\n",
    "\n",
    "mlp = MLPClassifier(hidden_layer_sizes=(100,500,200),max_iter=500, learning_rate_init=0.001)\n"
   ]
  },
  {
   "cell_type": "code",
   "execution_count": 579,
   "metadata": {},
   "outputs": [
    {
     "data": {
      "text/plain": [
       "MLPClassifier(activation='relu', alpha=0.0001, batch_size='auto', beta_1=0.9,\n",
       "              beta_2=0.999, early_stopping=False, epsilon=1e-08,\n",
       "              hidden_layer_sizes=(100, 500, 200), learning_rate='constant',\n",
       "              learning_rate_init=0.001, max_iter=500, momentum=0.9,\n",
       "              n_iter_no_change=10, nesterovs_momentum=True, power_t=0.5,\n",
       "              random_state=None, shuffle=True, solver='adam', tol=0.0001,\n",
       "              validation_fraction=0.1, verbose=False, warm_start=False)"
      ]
     },
     "execution_count": 579,
     "metadata": {},
     "output_type": "execute_result"
    }
   ],
   "source": [
    "mlp.fit(X_train,y_train)"
   ]
  },
  {
   "cell_type": "code",
   "execution_count": 580,
   "metadata": {},
   "outputs": [],
   "source": [
    "predictions = mlp.predict(X_test)"
   ]
  },
  {
   "cell_type": "code",
   "execution_count": 581,
   "metadata": {},
   "outputs": [
    {
     "name": "stdout",
     "output_type": "stream",
     "text": [
      "[[850 246]\n",
      " [384 702]]\n",
      "              precision    recall  f1-score   support\n",
      "\n",
      "           0       0.69      0.78      0.73      1096\n",
      "           1       0.74      0.65      0.69      1086\n",
      "\n",
      "    accuracy                           0.71      2182\n",
      "   macro avg       0.71      0.71      0.71      2182\n",
      "weighted avg       0.71      0.71      0.71      2182\n",
      "\n"
     ]
    }
   ],
   "source": [
    "print(confusion_matrix(y_test,predictions))\n",
    "print(classification_report(y_test,predictions))"
   ]
  },
  {
   "cell_type": "markdown",
   "metadata": {},
   "source": [
    "## Inference"
   ]
  },
  {
   "cell_type": "code",
   "execution_count": 582,
   "metadata": {},
   "outputs": [],
   "source": [
    "svm_preds = svclassifier.predict(val)\n"
   ]
  },
  {
   "cell_type": "code",
   "execution_count": 523,
   "metadata": {},
   "outputs": [],
   "source": [
    "infer_pred = mlp.predict(val)"
   ]
  },
  {
   "cell_type": "code",
   "execution_count": null,
   "metadata": {},
   "outputs": [],
   "source": []
  }
 ],
 "metadata": {
  "kernelspec": {
   "display_name": "Python 3",
   "language": "python",
   "name": "python3"
  },
  "language_info": {
   "codemirror_mode": {
    "name": "ipython",
    "version": 3
   },
   "file_extension": ".py",
   "mimetype": "text/x-python",
   "name": "python",
   "nbconvert_exporter": "python",
   "pygments_lexer": "ipython3",
   "version": "3.6.8"
  }
 },
 "nbformat": 4,
 "nbformat_minor": 4
}

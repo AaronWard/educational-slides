{
 "cells": [
  {
   "cell_type": "code",
   "execution_count": 91,
   "metadata": {},
   "outputs": [],
   "source": [
    "import pandas as pd \n",
    "\n",
    "\n",
    "pd.options.display.max_columns = None\n",
    "pd.set_option('display.max_colwidth', -1)\n",
    "pd.set_option('mode.chained_assignment', None)\n",
    "\n",
    "WORK_CUST = './AdvWorksCusts.csv'\n",
    "AVE_SPEND = './AW_AveMonthSpend.csv'\n",
    "BIKE_BUYER = './AW_BikeBuyer.csv'\n",
    "\n"
   ]
  },
  {
   "cell_type": "markdown",
   "metadata": {},
   "source": [
    "### Import data\n"
   ]
  },
  {
   "cell_type": "code",
   "execution_count": 147,
   "metadata": {},
   "outputs": [],
   "source": [
    "work_cust_df = pd.read_csv(WORK_CUST)\n",
    "ave_spend_df = pd.read_csv(AVE_SPEND)\n",
    "bike_buyer_df = pd.read_csv(BIKE_BUYER)"
   ]
  },
  {
   "cell_type": "code",
   "execution_count": 149,
   "metadata": {},
   "outputs": [],
   "source": [
    "#Keep the last record for each unique customerID\n",
    "work_cust_df = work_cust_df.drop_duplicates(subset='CustomerID', keep='last')\n",
    "ave_spend_df = ave_spend_df.drop_duplicates(subset='CustomerID', keep='last')\n",
    "bike_buyer_df = bike_buyer_df.drop_duplicates(subset='CustomerID',keep='last')"
   ]
  },
  {
   "cell_type": "code",
   "execution_count": 151,
   "metadata": {},
   "outputs": [],
   "source": [
    "# Joing 3 dataframes into one DF\n",
    "df = pd.merge(work_cust_df, ave_spend_df, left_on=\"CustomerID\", right_on=\"CustomerID\", how='left')\n",
    "df = pd.merge(df, bike_buyer_df, left_on=\"CustomerID\", right_on=\"CustomerID\", how='left')"
   ]
  },
  {
   "cell_type": "code",
   "execution_count": 157,
   "metadata": {},
   "outputs": [
    {
     "data": {
      "text/html": [
       "<div>\n",
       "<style scoped>\n",
       "    .dataframe tbody tr th:only-of-type {\n",
       "        vertical-align: middle;\n",
       "    }\n",
       "\n",
       "    .dataframe tbody tr th {\n",
       "        vertical-align: top;\n",
       "    }\n",
       "\n",
       "    .dataframe thead th {\n",
       "        text-align: right;\n",
       "    }\n",
       "</style>\n",
       "<table border=\"1\" class=\"dataframe\">\n",
       "  <thead>\n",
       "    <tr style=\"text-align: right;\">\n",
       "      <th></th>\n",
       "      <th>CustomerID</th>\n",
       "      <th>Title</th>\n",
       "      <th>FirstName</th>\n",
       "      <th>MiddleName</th>\n",
       "      <th>LastName</th>\n",
       "      <th>Suffix</th>\n",
       "      <th>AddressLine1</th>\n",
       "      <th>AddressLine2</th>\n",
       "      <th>City</th>\n",
       "      <th>StateProvinceName</th>\n",
       "      <th>CountryRegionName</th>\n",
       "      <th>PostalCode</th>\n",
       "      <th>PhoneNumber</th>\n",
       "      <th>BirthDate</th>\n",
       "      <th>Education</th>\n",
       "      <th>Occupation</th>\n",
       "      <th>Gender</th>\n",
       "      <th>MaritalStatus</th>\n",
       "      <th>HomeOwnerFlag</th>\n",
       "      <th>NumberCarsOwned</th>\n",
       "      <th>NumberChildrenAtHome</th>\n",
       "      <th>TotalChildren</th>\n",
       "      <th>YearlyIncome</th>\n",
       "      <th>AveMonthSpend</th>\n",
       "      <th>BikeBuyer</th>\n",
       "    </tr>\n",
       "  </thead>\n",
       "  <tbody>\n",
       "    <tr>\n",
       "      <th>0</th>\n",
       "      <td>11000</td>\n",
       "      <td>NaN</td>\n",
       "      <td>Jon</td>\n",
       "      <td>V</td>\n",
       "      <td>Yang</td>\n",
       "      <td>NaN</td>\n",
       "      <td>3761 N. 14th St</td>\n",
       "      <td>NaN</td>\n",
       "      <td>Rockhampton</td>\n",
       "      <td>Queensland</td>\n",
       "      <td>Australia</td>\n",
       "      <td>4700</td>\n",
       "      <td>1 (11) 500 555-0162</td>\n",
       "      <td>1966-04-08</td>\n",
       "      <td>Bachelors</td>\n",
       "      <td>Professional</td>\n",
       "      <td>M</td>\n",
       "      <td>M</td>\n",
       "      <td>1</td>\n",
       "      <td>0</td>\n",
       "      <td>0</td>\n",
       "      <td>2</td>\n",
       "      <td>137947</td>\n",
       "      <td>89</td>\n",
       "      <td>0</td>\n",
       "    </tr>\n",
       "    <tr>\n",
       "      <th>1</th>\n",
       "      <td>11001</td>\n",
       "      <td>NaN</td>\n",
       "      <td>Eugene</td>\n",
       "      <td>L</td>\n",
       "      <td>Huang</td>\n",
       "      <td>NaN</td>\n",
       "      <td>2243 W St.</td>\n",
       "      <td>NaN</td>\n",
       "      <td>Seaford</td>\n",
       "      <td>Victoria</td>\n",
       "      <td>Australia</td>\n",
       "      <td>3198</td>\n",
       "      <td>1 (11) 500 555-0110</td>\n",
       "      <td>1965-05-14</td>\n",
       "      <td>Bachelors</td>\n",
       "      <td>Professional</td>\n",
       "      <td>M</td>\n",
       "      <td>S</td>\n",
       "      <td>0</td>\n",
       "      <td>1</td>\n",
       "      <td>3</td>\n",
       "      <td>3</td>\n",
       "      <td>101141</td>\n",
       "      <td>117</td>\n",
       "      <td>1</td>\n",
       "    </tr>\n",
       "    <tr>\n",
       "      <th>2</th>\n",
       "      <td>11002</td>\n",
       "      <td>NaN</td>\n",
       "      <td>Ruben</td>\n",
       "      <td>NaN</td>\n",
       "      <td>Torres</td>\n",
       "      <td>NaN</td>\n",
       "      <td>5844 Linden Land</td>\n",
       "      <td>NaN</td>\n",
       "      <td>Hobart</td>\n",
       "      <td>Tasmania</td>\n",
       "      <td>Australia</td>\n",
       "      <td>7001</td>\n",
       "      <td>1 (11) 500 555-0184</td>\n",
       "      <td>1965-08-12</td>\n",
       "      <td>Bachelors</td>\n",
       "      <td>Professional</td>\n",
       "      <td>M</td>\n",
       "      <td>M</td>\n",
       "      <td>1</td>\n",
       "      <td>1</td>\n",
       "      <td>3</td>\n",
       "      <td>3</td>\n",
       "      <td>91945</td>\n",
       "      <td>123</td>\n",
       "      <td>0</td>\n",
       "    </tr>\n",
       "    <tr>\n",
       "      <th>3</th>\n",
       "      <td>11003</td>\n",
       "      <td>NaN</td>\n",
       "      <td>Christy</td>\n",
       "      <td>NaN</td>\n",
       "      <td>Zhu</td>\n",
       "      <td>NaN</td>\n",
       "      <td>1825 Village Pl.</td>\n",
       "      <td>NaN</td>\n",
       "      <td>North Ryde</td>\n",
       "      <td>New South Wales</td>\n",
       "      <td>Australia</td>\n",
       "      <td>2113</td>\n",
       "      <td>1 (11) 500 555-0162</td>\n",
       "      <td>1968-02-15</td>\n",
       "      <td>Bachelors</td>\n",
       "      <td>Professional</td>\n",
       "      <td>F</td>\n",
       "      <td>S</td>\n",
       "      <td>0</td>\n",
       "      <td>1</td>\n",
       "      <td>0</td>\n",
       "      <td>0</td>\n",
       "      <td>86688</td>\n",
       "      <td>50</td>\n",
       "      <td>0</td>\n",
       "    </tr>\n",
       "    <tr>\n",
       "      <th>4</th>\n",
       "      <td>11004</td>\n",
       "      <td>NaN</td>\n",
       "      <td>Elizabeth</td>\n",
       "      <td>NaN</td>\n",
       "      <td>Johnson</td>\n",
       "      <td>NaN</td>\n",
       "      <td>7553 Harness Circle</td>\n",
       "      <td>NaN</td>\n",
       "      <td>Wollongong</td>\n",
       "      <td>New South Wales</td>\n",
       "      <td>Australia</td>\n",
       "      <td>2500</td>\n",
       "      <td>1 (11) 500 555-0131</td>\n",
       "      <td>1968-08-08</td>\n",
       "      <td>Bachelors</td>\n",
       "      <td>Professional</td>\n",
       "      <td>F</td>\n",
       "      <td>S</td>\n",
       "      <td>1</td>\n",
       "      <td>4</td>\n",
       "      <td>5</td>\n",
       "      <td>5</td>\n",
       "      <td>92771</td>\n",
       "      <td>95</td>\n",
       "      <td>1</td>\n",
       "    </tr>\n",
       "  </tbody>\n",
       "</table>\n",
       "</div>"
      ],
      "text/plain": [
       "   CustomerID Title  FirstName MiddleName LastName Suffix  \\\n",
       "0  11000       NaN   Jon        V          Yang     NaN     \n",
       "1  11001       NaN   Eugene     L          Huang    NaN     \n",
       "2  11002       NaN   Ruben      NaN        Torres   NaN     \n",
       "3  11003       NaN   Christy    NaN        Zhu      NaN     \n",
       "4  11004       NaN   Elizabeth  NaN        Johnson  NaN     \n",
       "\n",
       "          AddressLine1 AddressLine2         City StateProvinceName  \\\n",
       "0  3761 N. 14th St      NaN          Rockhampton  Queensland         \n",
       "1  2243 W St.           NaN          Seaford      Victoria           \n",
       "2  5844 Linden Land     NaN          Hobart       Tasmania           \n",
       "3  1825 Village Pl.     NaN          North Ryde   New South Wales    \n",
       "4  7553 Harness Circle  NaN          Wollongong   New South Wales    \n",
       "\n",
       "  CountryRegionName PostalCode          PhoneNumber   BirthDate   Education  \\\n",
       "0  Australia         4700       1 (11) 500 555-0162  1966-04-08  Bachelors    \n",
       "1  Australia         3198       1 (11) 500 555-0110  1965-05-14  Bachelors    \n",
       "2  Australia         7001       1 (11) 500 555-0184  1965-08-12  Bachelors    \n",
       "3  Australia         2113       1 (11) 500 555-0162  1968-02-15  Bachelors    \n",
       "4  Australia         2500       1 (11) 500 555-0131  1968-08-08  Bachelors    \n",
       "\n",
       "     Occupation Gender MaritalStatus  HomeOwnerFlag  NumberCarsOwned  \\\n",
       "0  Professional  M      M             1              0                 \n",
       "1  Professional  M      S             0              1                 \n",
       "2  Professional  M      M             1              1                 \n",
       "3  Professional  F      S             0              1                 \n",
       "4  Professional  F      S             1              4                 \n",
       "\n",
       "   NumberChildrenAtHome  TotalChildren  YearlyIncome  AveMonthSpend  BikeBuyer  \n",
       "0  0                     2              137947        89             0          \n",
       "1  3                     3              101141        117            1          \n",
       "2  3                     3              91945         123            0          \n",
       "3  0                     0              86688         50             0          \n",
       "4  5                     5              92771         95             1          "
      ]
     },
     "execution_count": 157,
     "metadata": {},
     "output_type": "execute_result"
    }
   ],
   "source": [
    "df.head()"
   ]
  },
  {
   "cell_type": "code",
   "execution_count": 163,
   "metadata": {},
   "outputs": [],
   "source": [
    "\n",
    "keep_cols = ['CustomerID', 'BirthDate', 'Education', 'Occupation', 'HomeOwnerFlag', 'Gender', 'MaritalStatus', 'NumberCarsOwned', 'NumberChildrenAtHome', 'TotalChildren', 'YearlyIncome', 'AveMonthSpend', 'BikeBuyer']\n",
    "\n",
    "df2 = df[keep_cols]"
   ]
  },
  {
   "cell_type": "code",
   "execution_count": 165,
   "metadata": {},
   "outputs": [
    {
     "data": {
      "text/html": [
       "<div>\n",
       "<style scoped>\n",
       "    .dataframe tbody tr th:only-of-type {\n",
       "        vertical-align: middle;\n",
       "    }\n",
       "\n",
       "    .dataframe tbody tr th {\n",
       "        vertical-align: top;\n",
       "    }\n",
       "\n",
       "    .dataframe thead th {\n",
       "        text-align: right;\n",
       "    }\n",
       "</style>\n",
       "<table border=\"1\" class=\"dataframe\">\n",
       "  <thead>\n",
       "    <tr style=\"text-align: right;\">\n",
       "      <th></th>\n",
       "      <th>CustomerID</th>\n",
       "      <th>BirthDate</th>\n",
       "      <th>Education</th>\n",
       "      <th>Occupation</th>\n",
       "      <th>HomeOwnerFlag</th>\n",
       "      <th>Gender</th>\n",
       "      <th>MaritalStatus</th>\n",
       "      <th>NumberCarsOwned</th>\n",
       "      <th>NumberChildrenAtHome</th>\n",
       "      <th>TotalChildren</th>\n",
       "      <th>YearlyIncome</th>\n",
       "      <th>AveMonthSpend</th>\n",
       "      <th>BikeBuyer</th>\n",
       "    </tr>\n",
       "  </thead>\n",
       "  <tbody>\n",
       "    <tr>\n",
       "      <th>0</th>\n",
       "      <td>11000</td>\n",
       "      <td>1966-04-08</td>\n",
       "      <td>Bachelors</td>\n",
       "      <td>Professional</td>\n",
       "      <td>1</td>\n",
       "      <td>M</td>\n",
       "      <td>M</td>\n",
       "      <td>0</td>\n",
       "      <td>0</td>\n",
       "      <td>2</td>\n",
       "      <td>137947</td>\n",
       "      <td>89</td>\n",
       "      <td>0</td>\n",
       "    </tr>\n",
       "    <tr>\n",
       "      <th>1</th>\n",
       "      <td>11001</td>\n",
       "      <td>1965-05-14</td>\n",
       "      <td>Bachelors</td>\n",
       "      <td>Professional</td>\n",
       "      <td>0</td>\n",
       "      <td>M</td>\n",
       "      <td>S</td>\n",
       "      <td>1</td>\n",
       "      <td>3</td>\n",
       "      <td>3</td>\n",
       "      <td>101141</td>\n",
       "      <td>117</td>\n",
       "      <td>1</td>\n",
       "    </tr>\n",
       "    <tr>\n",
       "      <th>2</th>\n",
       "      <td>11002</td>\n",
       "      <td>1965-08-12</td>\n",
       "      <td>Bachelors</td>\n",
       "      <td>Professional</td>\n",
       "      <td>1</td>\n",
       "      <td>M</td>\n",
       "      <td>M</td>\n",
       "      <td>1</td>\n",
       "      <td>3</td>\n",
       "      <td>3</td>\n",
       "      <td>91945</td>\n",
       "      <td>123</td>\n",
       "      <td>0</td>\n",
       "    </tr>\n",
       "    <tr>\n",
       "      <th>3</th>\n",
       "      <td>11003</td>\n",
       "      <td>1968-02-15</td>\n",
       "      <td>Bachelors</td>\n",
       "      <td>Professional</td>\n",
       "      <td>0</td>\n",
       "      <td>F</td>\n",
       "      <td>S</td>\n",
       "      <td>1</td>\n",
       "      <td>0</td>\n",
       "      <td>0</td>\n",
       "      <td>86688</td>\n",
       "      <td>50</td>\n",
       "      <td>0</td>\n",
       "    </tr>\n",
       "    <tr>\n",
       "      <th>4</th>\n",
       "      <td>11004</td>\n",
       "      <td>1968-08-08</td>\n",
       "      <td>Bachelors</td>\n",
       "      <td>Professional</td>\n",
       "      <td>1</td>\n",
       "      <td>F</td>\n",
       "      <td>S</td>\n",
       "      <td>4</td>\n",
       "      <td>5</td>\n",
       "      <td>5</td>\n",
       "      <td>92771</td>\n",
       "      <td>95</td>\n",
       "      <td>1</td>\n",
       "    </tr>\n",
       "  </tbody>\n",
       "</table>\n",
       "</div>"
      ],
      "text/plain": [
       "   CustomerID   BirthDate   Education    Occupation  HomeOwnerFlag Gender  \\\n",
       "0  11000       1966-04-08  Bachelors   Professional  1              M       \n",
       "1  11001       1965-05-14  Bachelors   Professional  0              M       \n",
       "2  11002       1965-08-12  Bachelors   Professional  1              M       \n",
       "3  11003       1968-02-15  Bachelors   Professional  0              F       \n",
       "4  11004       1968-08-08  Bachelors   Professional  1              F       \n",
       "\n",
       "  MaritalStatus  NumberCarsOwned  NumberChildrenAtHome  TotalChildren  \\\n",
       "0  M             0                0                     2               \n",
       "1  S             1                3                     3               \n",
       "2  M             1                3                     3               \n",
       "3  S             1                0                     0               \n",
       "4  S             4                5                     5               \n",
       "\n",
       "   YearlyIncome  AveMonthSpend  BikeBuyer  \n",
       "0  137947        89             0          \n",
       "1  101141        117            1          \n",
       "2  91945         123            0          \n",
       "3  86688         50             0          \n",
       "4  92771         95             1          "
      ]
     },
     "execution_count": 165,
     "metadata": {},
     "output_type": "execute_result"
    }
   ],
   "source": [
    "df2.head()"
   ]
  },
  {
   "cell_type": "code",
   "execution_count": null,
   "metadata": {},
   "outputs": [],
   "source": []
  },
  {
   "cell_type": "code",
   "execution_count": null,
   "metadata": {},
   "outputs": [],
   "source": []
  },
  {
   "cell_type": "markdown",
   "metadata": {},
   "source": [
    "### Work Sheet"
   ]
  },
  {
   "cell_type": "code",
   "execution_count": 166,
   "metadata": {},
   "outputs": [
    {
     "data": {
      "text/plain": [
       "AveMonthSpend    22\n",
       "dtype: int64"
      ]
     },
     "execution_count": 166,
     "metadata": {},
     "output_type": "execute_result"
    }
   ],
   "source": [
    "df[['AveMonthSpend']].min()\n"
   ]
  },
  {
   "cell_type": "code",
   "execution_count": 167,
   "metadata": {},
   "outputs": [
    {
     "data": {
      "text/plain": [
       "AveMonthSpend    176\n",
       "dtype: int64"
      ]
     },
     "execution_count": 167,
     "metadata": {},
     "output_type": "execute_result"
    }
   ],
   "source": [
    "df[['AveMonthSpend']].max()\n"
   ]
  },
  {
   "cell_type": "code",
   "execution_count": 162,
   "metadata": {},
   "outputs": [
    {
     "data": {
      "text/plain": [
       "AveMonthSpend    72.391002\n",
       "dtype: float64"
      ]
     },
     "execution_count": 162,
     "metadata": {},
     "output_type": "execute_result"
    }
   ],
   "source": [
    "df[['AveMonthSpend']].mean()\n",
    "# aveMonthSpend"
   ]
  },
  {
   "cell_type": "code",
   "execution_count": 168,
   "metadata": {},
   "outputs": [
    {
     "data": {
      "text/plain": [
       "AveMonthSpend    68.0\n",
       "dtype: float64"
      ]
     },
     "execution_count": 168,
     "metadata": {},
     "output_type": "execute_result"
    }
   ],
   "source": [
    "df[['AveMonthSpend']].median()\n"
   ]
  },
  {
   "cell_type": "code",
   "execution_count": 169,
   "metadata": {},
   "outputs": [
    {
     "data": {
      "text/plain": [
       "AveMonthSpend    27.269921\n",
       "dtype: float64"
      ]
     },
     "execution_count": 169,
     "metadata": {},
     "output_type": "execute_result"
    }
   ],
   "source": [
    "df[['AveMonthSpend']].std()\n"
   ]
  },
  {
   "cell_type": "code",
   "execution_count": 179,
   "metadata": {},
   "outputs": [
    {
     "data": {
      "text/plain": [
       "<matplotlib.axes._subplots.AxesSubplot at 0x12f1ed278>"
      ]
     },
     "execution_count": 179,
     "metadata": {},
     "output_type": "execute_result"
    },
    {
     "data": {
      "image/png": "[encoded data removed]",
      "text/plain": [
       "<Figure size 432x288 with 1 Axes>"
      ]
     },
     "metadata": {
      "needs_background": "light"
     },
     "output_type": "display_data"
    }
   ],
   "source": [
    "import matplotlib.pyplot as plt\n",
    "\n",
    "%matplotlib inline\n",
    "\n",
    "df.BikeBuyer.value_counts().plot(kind='bar')\n"
   ]
  },
  {
   "cell_type": "code",
   "execution_count": 183,
   "metadata": {},
   "outputs": [
    {
     "data": {
      "text/plain": [
       "Occupation\n",
       "Management        118781.0\n",
       "Professional      99058.0 \n",
       "Skilled Manual    66471.5 \n",
       "Clerical          49481.0 \n",
       "Manual            21722.0 \n",
       "Name: YearlyIncome, dtype: float64"
      ]
     },
     "execution_count": 183,
     "metadata": {},
     "output_type": "execute_result"
    }
   ],
   "source": [
    "df.groupby('Occupation').YearlyIncome.median().sort_values(ascending=False)"
   ]
  },
  {
   "cell_type": "code",
   "execution_count": 202,
   "metadata": {},
   "outputs": [],
   "source": [
    "from datetime import datetime\n",
    "from datetime import date\n",
    "\n",
    "\n",
    "def calculate_age(born):\n",
    "    born = datetime.strptime(born, \"%Y-%m-%d\").date()\n",
    "    particular_date = datetime(1998, 1, 1)\n",
    "    return particular_date.year - born.year - ((particular_date.month, particular_date.day) < (born.month, born.day))\n",
    "\n",
    "def age_cat(age):\n",
    "    if age < 25:\n",
    "        return 'under_25'\n",
    "    elif age >= 25 and age <= 45:\n",
    "        \n",
    "        return 'between_25_45'\n",
    "    \n",
    "    elif age > 45 and age <= 55:\n",
    "        return 'between_44_55'\n",
    "    \n",
    "    elif age > 55:\n",
    "        return 'over_55'\n",
    "\n",
    "\n",
    "df['age'] = df['BirthDate'].apply(calculate_age)\n",
    "df['age_cat'] = df['age'].apply(age_cat)\n",
    "\n",
    "\n"
   ]
  },
  {
   "cell_type": "code",
   "execution_count": 204,
   "metadata": {},
   "outputs": [
    {
     "data": {
      "text/plain": [
       "between_25_45    10272\n",
       "under_25         2932 \n",
       "between_44_55    2305 \n",
       "over_55          895  \n",
       "Name: age_cat, dtype: int64"
      ]
     },
     "execution_count": 204,
     "metadata": {},
     "output_type": "execute_result"
    }
   ],
   "source": [
    "df.age_cat.value_counts()"
   ]
  },
  {
   "cell_type": "code",
   "execution_count": 209,
   "metadata": {},
   "outputs": [
    {
     "data": {
      "text/plain": [
       "age_cat        Gender\n",
       "between_25_45  F         302667\n",
       "               M         485691\n",
       "between_44_55  F         64905 \n",
       "               M         103778\n",
       "over_55        F         21371 \n",
       "               M         30931 \n",
       "under_25       F         70476 \n",
       "               M         107683\n",
       "Name: AveMonthSpend, dtype: int64"
      ]
     },
     "execution_count": 209,
     "metadata": {},
     "output_type": "execute_result"
    }
   ],
   "source": [
    "df.groupby(['age_cat', 'Gender']).AveMonthSpend.sum()"
   ]
  },
  {
   "cell_type": "code",
   "execution_count": 211,
   "metadata": {},
   "outputs": [
    {
     "data": {
      "text/html": [
       "<div>\n",
       "<style scoped>\n",
       "    .dataframe tbody tr th:only-of-type {\n",
       "        vertical-align: middle;\n",
       "    }\n",
       "\n",
       "    .dataframe tbody tr th {\n",
       "        vertical-align: top;\n",
       "    }\n",
       "\n",
       "    .dataframe thead th {\n",
       "        text-align: right;\n",
       "    }\n",
       "</style>\n",
       "<table border=\"1\" class=\"dataframe\">\n",
       "  <thead>\n",
       "    <tr style=\"text-align: right;\">\n",
       "      <th></th>\n",
       "      <th>CustomerID</th>\n",
       "      <th>Title</th>\n",
       "      <th>FirstName</th>\n",
       "      <th>MiddleName</th>\n",
       "      <th>LastName</th>\n",
       "      <th>Suffix</th>\n",
       "      <th>AddressLine1</th>\n",
       "      <th>AddressLine2</th>\n",
       "      <th>City</th>\n",
       "      <th>StateProvinceName</th>\n",
       "      <th>CountryRegionName</th>\n",
       "      <th>PostalCode</th>\n",
       "      <th>PhoneNumber</th>\n",
       "      <th>BirthDate</th>\n",
       "      <th>Education</th>\n",
       "      <th>Occupation</th>\n",
       "      <th>Gender</th>\n",
       "      <th>MaritalStatus</th>\n",
       "      <th>HomeOwnerFlag</th>\n",
       "      <th>NumberCarsOwned</th>\n",
       "      <th>NumberChildrenAtHome</th>\n",
       "      <th>TotalChildren</th>\n",
       "      <th>YearlyIncome</th>\n",
       "      <th>AveMonthSpend</th>\n",
       "      <th>BikeBuyer</th>\n",
       "      <th>age</th>\n",
       "      <th>age_cat</th>\n",
       "    </tr>\n",
       "  </thead>\n",
       "  <tbody>\n",
       "    <tr>\n",
       "      <th>0</th>\n",
       "      <td>11000</td>\n",
       "      <td>NaN</td>\n",
       "      <td>Jon</td>\n",
       "      <td>V</td>\n",
       "      <td>Yang</td>\n",
       "      <td>NaN</td>\n",
       "      <td>3761 N. 14th St</td>\n",
       "      <td>NaN</td>\n",
       "      <td>Rockhampton</td>\n",
       "      <td>Queensland</td>\n",
       "      <td>Australia</td>\n",
       "      <td>4700</td>\n",
       "      <td>1 (11) 500 555-0162</td>\n",
       "      <td>1966-04-08</td>\n",
       "      <td>Bachelors</td>\n",
       "      <td>Professional</td>\n",
       "      <td>M</td>\n",
       "      <td>M</td>\n",
       "      <td>1</td>\n",
       "      <td>0</td>\n",
       "      <td>0</td>\n",
       "      <td>2</td>\n",
       "      <td>137947</td>\n",
       "      <td>89</td>\n",
       "      <td>0</td>\n",
       "      <td>31</td>\n",
       "      <td>between_25_45</td>\n",
       "    </tr>\n",
       "  </tbody>\n",
       "</table>\n",
       "</div>"
      ],
      "text/plain": [
       "   CustomerID Title FirstName MiddleName LastName Suffix     AddressLine1  \\\n",
       "0  11000       NaN   Jon       V          Yang     NaN    3761 N. 14th St   \n",
       "\n",
       "  AddressLine2         City StateProvinceName CountryRegionName PostalCode  \\\n",
       "0  NaN          Rockhampton  Queensland        Australia         4700        \n",
       "\n",
       "           PhoneNumber   BirthDate   Education    Occupation Gender  \\\n",
       "0  1 (11) 500 555-0162  1966-04-08  Bachelors   Professional  M       \n",
       "\n",
       "  MaritalStatus  HomeOwnerFlag  NumberCarsOwned  NumberChildrenAtHome  \\\n",
       "0  M             1              0                0                      \n",
       "\n",
       "   TotalChildren  YearlyIncome  AveMonthSpend  BikeBuyer  age        age_cat  \n",
       "0  2              137947        89             0          31   between_25_45  "
      ]
     },
     "execution_count": 211,
     "metadata": {},
     "output_type": "execute_result"
    }
   ],
   "source": [
    "df.head(1)"
   ]
  },
  {
   "cell_type": "code",
   "execution_count": 213,
   "metadata": {},
   "outputs": [
    {
     "data": {
      "text/plain": [
       "MaritalStatus\n",
       "M    74\n",
       "S    62\n",
       "Name: AveMonthSpend, dtype: int64"
      ]
     },
     "execution_count": 213,
     "metadata": {},
     "output_type": "execute_result"
    }
   ],
   "source": [
    "df.groupby(['MaritalStatus']).AveMonthSpend.median()"
   ]
  },
  {
   "cell_type": "code",
   "execution_count": 215,
   "metadata": {},
   "outputs": [
    {
     "data": {
      "text/plain": [
       "NumberCarsOwned\n",
       "0    65 \n",
       "1    63 \n",
       "2    64 \n",
       "3    92 \n",
       "4    100\n",
       "Name: AveMonthSpend, dtype: int64"
      ]
     },
     "execution_count": 215,
     "metadata": {},
     "output_type": "execute_result"
    }
   ],
   "source": [
    "df.groupby(['NumberCarsOwned']).AveMonthSpend.median()"
   ]
  },
  {
   "cell_type": "code",
   "execution_count": 216,
   "metadata": {},
   "outputs": [
    {
     "data": {
      "text/plain": [
       "Gender\n",
       "F    52\n",
       "M    79\n",
       "Name: AveMonthSpend, dtype: int64"
      ]
     },
     "execution_count": 216,
     "metadata": {},
     "output_type": "execute_result"
    }
   ],
   "source": [
    "df.groupby(['Gender']).AveMonthSpend.median()"
   ]
  },
  {
   "cell_type": "code",
   "execution_count": 219,
   "metadata": {},
   "outputs": [],
   "source": [
    "\n",
    "range_male = df[df.Gender == 'M'].AveMonthSpend.max() - df[df.Gender == 'M'].AveMonthSpend.min()\n",
    "range_fem = df[df.Gender == 'F'].AveMonthSpend.max() - df[df.Gender == 'F'].AveMonthSpend.min()\n",
    "\n",
    "\n",
    "print('M', range_male)\n",
    "print('F', range_fem)"
   ]
  },
  {
   "cell_type": "code",
   "execution_count": 220,
   "metadata": {},
   "outputs": [
    {
     "name": "stdout",
     "output_type": "stream",
     "text": [
      "M 147\n",
      "F 92\n"
     ]
    }
   ],
   "source": []
  },
  {
   "cell_type": "code",
   "execution_count": 221,
   "metadata": {},
   "outputs": [
    {
     "data": {
      "text/plain": [
       "TotalChildren\n",
       "0    56\n",
       "1    61\n",
       "2    66\n",
       "3    73\n",
       "4    83\n",
       "5    97\n",
       "Name: AveMonthSpend, dtype: int64"
      ]
     },
     "execution_count": 221,
     "metadata": {},
     "output_type": "execute_result"
    }
   ],
   "source": [
    "df.groupby(['TotalChildren']).AveMonthSpend.median()"
   ]
  },
  {
   "cell_type": "code",
   "execution_count": 222,
   "metadata": {},
   "outputs": [
    {
     "data": {
      "text/plain": [
       "BikeBuyer\n",
       "0    65957\n",
       "1    96084\n",
       "Name: YearlyIncome, dtype: int64"
      ]
     },
     "execution_count": 222,
     "metadata": {},
     "output_type": "execute_result"
    }
   ],
   "source": [
    "df.groupby(['BikeBuyer']).YearlyIncome.median()"
   ]
  },
  {
   "cell_type": "code",
   "execution_count": 225,
   "metadata": {},
   "outputs": [],
   "source": [
    "def has_car(car_count):\n",
    "    \n",
    "    if car_count == 0:\n",
    "        return 0\n",
    "    else:\n",
    "        return 1\n",
    "    \n",
    "    \n",
    "df['has_car'] = df['NumberCarsOwned'].apply(has_car)"
   ]
  },
  {
   "cell_type": "code",
   "execution_count": 228,
   "metadata": {},
   "outputs": [
    {
     "data": {
      "text/plain": [
       "BikeBuyer\n",
       "0    1\n",
       "1    2\n",
       "Name: NumberCarsOwned, dtype: int64"
      ]
     },
     "execution_count": 228,
     "metadata": {},
     "output_type": "execute_result"
    }
   ],
   "source": [
    "df.groupby(['BikeBuyer']).NumberCarsOwned.median()"
   ]
  },
  {
   "cell_type": "code",
   "execution_count": 229,
   "metadata": {},
   "outputs": [
    {
     "data": {
      "text/plain": [
       "BikeBuyer  Occupation    \n",
       "0          Skilled Manual    2903\n",
       "           Professional      2738\n",
       "           Clerical          1981\n",
       "           Management        1702\n",
       "           Manual            1625\n",
       "1          Professional      2184\n",
       "           Skilled Manual    1135\n",
       "           Management        1016\n",
       "           Clerical          616 \n",
       "           Manual            504 \n",
       "Name: Occupation, dtype: int64"
      ]
     },
     "execution_count": 229,
     "metadata": {},
     "output_type": "execute_result"
    }
   ],
   "source": [
    "df.groupby(['BikeBuyer']).Occupation.value_counts()"
   ]
  },
  {
   "cell_type": "code",
   "execution_count": 230,
   "metadata": {},
   "outputs": [
    {
     "data": {
      "text/plain": [
       "BikeBuyer  Gender\n",
       "0          F         5881\n",
       "           M         5068\n",
       "1          M         3222\n",
       "           F         2233\n",
       "Name: Gender, dtype: int64"
      ]
     },
     "execution_count": 230,
     "metadata": {},
     "output_type": "execute_result"
    }
   ],
   "source": [
    "df.groupby(['BikeBuyer']).Gender.value_counts()"
   ]
  },
  {
   "cell_type": "code",
   "execution_count": 233,
   "metadata": {},
   "outputs": [
    {
     "data": {
      "text/plain": [
       "MaritalStatus\n",
       "M    2199\n",
       "S    3256\n",
       "Name: BikeBuyer, dtype: int64"
      ]
     },
     "execution_count": 233,
     "metadata": {},
     "output_type": "execute_result"
    }
   ],
   "source": [
    "df.groupby(['MaritalStatus']).BikeBuyer.sum()"
   ]
  },
  {
   "cell_type": "code",
   "execution_count": 234,
   "metadata": {},
   "outputs": [
    {
     "data": {
      "text/html": [
       "<div>\n",
       "<style scoped>\n",
       "    .dataframe tbody tr th:only-of-type {\n",
       "        vertical-align: middle;\n",
       "    }\n",
       "\n",
       "    .dataframe tbody tr th {\n",
       "        vertical-align: top;\n",
       "    }\n",
       "\n",
       "    .dataframe thead th {\n",
       "        text-align: right;\n",
       "    }\n",
       "</style>\n",
       "<table border=\"1\" class=\"dataframe\">\n",
       "  <thead>\n",
       "    <tr style=\"text-align: right;\">\n",
       "      <th></th>\n",
       "      <th>CustomerID</th>\n",
       "      <th>Title</th>\n",
       "      <th>FirstName</th>\n",
       "      <th>MiddleName</th>\n",
       "      <th>LastName</th>\n",
       "      <th>Suffix</th>\n",
       "      <th>AddressLine1</th>\n",
       "      <th>AddressLine2</th>\n",
       "      <th>City</th>\n",
       "      <th>StateProvinceName</th>\n",
       "      <th>CountryRegionName</th>\n",
       "      <th>PostalCode</th>\n",
       "      <th>PhoneNumber</th>\n",
       "      <th>BirthDate</th>\n",
       "      <th>Education</th>\n",
       "      <th>Occupation</th>\n",
       "      <th>Gender</th>\n",
       "      <th>MaritalStatus</th>\n",
       "      <th>HomeOwnerFlag</th>\n",
       "      <th>NumberCarsOwned</th>\n",
       "      <th>NumberChildrenAtHome</th>\n",
       "      <th>TotalChildren</th>\n",
       "      <th>YearlyIncome</th>\n",
       "      <th>AveMonthSpend</th>\n",
       "      <th>BikeBuyer</th>\n",
       "      <th>age</th>\n",
       "      <th>age_cat</th>\n",
       "      <th>has_car</th>\n",
       "    </tr>\n",
       "  </thead>\n",
       "  <tbody>\n",
       "    <tr>\n",
       "      <th>0</th>\n",
       "      <td>11000</td>\n",
       "      <td>NaN</td>\n",
       "      <td>Jon</td>\n",
       "      <td>V</td>\n",
       "      <td>Yang</td>\n",
       "      <td>NaN</td>\n",
       "      <td>3761 N. 14th St</td>\n",
       "      <td>NaN</td>\n",
       "      <td>Rockhampton</td>\n",
       "      <td>Queensland</td>\n",
       "      <td>Australia</td>\n",
       "      <td>4700</td>\n",
       "      <td>1 (11) 500 555-0162</td>\n",
       "      <td>1966-04-08</td>\n",
       "      <td>Bachelors</td>\n",
       "      <td>Professional</td>\n",
       "      <td>M</td>\n",
       "      <td>M</td>\n",
       "      <td>1</td>\n",
       "      <td>0</td>\n",
       "      <td>0</td>\n",
       "      <td>2</td>\n",
       "      <td>137947</td>\n",
       "      <td>89</td>\n",
       "      <td>0</td>\n",
       "      <td>31</td>\n",
       "      <td>between_25_45</td>\n",
       "      <td>0</td>\n",
       "    </tr>\n",
       "    <tr>\n",
       "      <th>1</th>\n",
       "      <td>11001</td>\n",
       "      <td>NaN</td>\n",
       "      <td>Eugene</td>\n",
       "      <td>L</td>\n",
       "      <td>Huang</td>\n",
       "      <td>NaN</td>\n",
       "      <td>2243 W St.</td>\n",
       "      <td>NaN</td>\n",
       "      <td>Seaford</td>\n",
       "      <td>Victoria</td>\n",
       "      <td>Australia</td>\n",
       "      <td>3198</td>\n",
       "      <td>1 (11) 500 555-0110</td>\n",
       "      <td>1965-05-14</td>\n",
       "      <td>Bachelors</td>\n",
       "      <td>Professional</td>\n",
       "      <td>M</td>\n",
       "      <td>S</td>\n",
       "      <td>0</td>\n",
       "      <td>1</td>\n",
       "      <td>3</td>\n",
       "      <td>3</td>\n",
       "      <td>101141</td>\n",
       "      <td>117</td>\n",
       "      <td>1</td>\n",
       "      <td>32</td>\n",
       "      <td>between_25_45</td>\n",
       "      <td>1</td>\n",
       "    </tr>\n",
       "    <tr>\n",
       "      <th>2</th>\n",
       "      <td>11002</td>\n",
       "      <td>NaN</td>\n",
       "      <td>Ruben</td>\n",
       "      <td>NaN</td>\n",
       "      <td>Torres</td>\n",
       "      <td>NaN</td>\n",
       "      <td>5844 Linden Land</td>\n",
       "      <td>NaN</td>\n",
       "      <td>Hobart</td>\n",
       "      <td>Tasmania</td>\n",
       "      <td>Australia</td>\n",
       "      <td>7001</td>\n",
       "      <td>1 (11) 500 555-0184</td>\n",
       "      <td>1965-08-12</td>\n",
       "      <td>Bachelors</td>\n",
       "      <td>Professional</td>\n",
       "      <td>M</td>\n",
       "      <td>M</td>\n",
       "      <td>1</td>\n",
       "      <td>1</td>\n",
       "      <td>3</td>\n",
       "      <td>3</td>\n",
       "      <td>91945</td>\n",
       "      <td>123</td>\n",
       "      <td>0</td>\n",
       "      <td>32</td>\n",
       "      <td>between_25_45</td>\n",
       "      <td>1</td>\n",
       "    </tr>\n",
       "    <tr>\n",
       "      <th>3</th>\n",
       "      <td>11003</td>\n",
       "      <td>NaN</td>\n",
       "      <td>Christy</td>\n",
       "      <td>NaN</td>\n",
       "      <td>Zhu</td>\n",
       "      <td>NaN</td>\n",
       "      <td>1825 Village Pl.</td>\n",
       "      <td>NaN</td>\n",
       "      <td>North Ryde</td>\n",
       "      <td>New South Wales</td>\n",
       "      <td>Australia</td>\n",
       "      <td>2113</td>\n",
       "      <td>1 (11) 500 555-0162</td>\n",
       "      <td>1968-02-15</td>\n",
       "      <td>Bachelors</td>\n",
       "      <td>Professional</td>\n",
       "      <td>F</td>\n",
       "      <td>S</td>\n",
       "      <td>0</td>\n",
       "      <td>1</td>\n",
       "      <td>0</td>\n",
       "      <td>0</td>\n",
       "      <td>86688</td>\n",
       "      <td>50</td>\n",
       "      <td>0</td>\n",
       "      <td>29</td>\n",
       "      <td>between_25_45</td>\n",
       "      <td>1</td>\n",
       "    </tr>\n",
       "    <tr>\n",
       "      <th>4</th>\n",
       "      <td>11004</td>\n",
       "      <td>NaN</td>\n",
       "      <td>Elizabeth</td>\n",
       "      <td>NaN</td>\n",
       "      <td>Johnson</td>\n",
       "      <td>NaN</td>\n",
       "      <td>7553 Harness Circle</td>\n",
       "      <td>NaN</td>\n",
       "      <td>Wollongong</td>\n",
       "      <td>New South Wales</td>\n",
       "      <td>Australia</td>\n",
       "      <td>2500</td>\n",
       "      <td>1 (11) 500 555-0131</td>\n",
       "      <td>1968-08-08</td>\n",
       "      <td>Bachelors</td>\n",
       "      <td>Professional</td>\n",
       "      <td>F</td>\n",
       "      <td>S</td>\n",
       "      <td>1</td>\n",
       "      <td>4</td>\n",
       "      <td>5</td>\n",
       "      <td>5</td>\n",
       "      <td>92771</td>\n",
       "      <td>95</td>\n",
       "      <td>1</td>\n",
       "      <td>29</td>\n",
       "      <td>between_25_45</td>\n",
       "      <td>1</td>\n",
       "    </tr>\n",
       "  </tbody>\n",
       "</table>\n",
       "</div>"
      ],
      "text/plain": [
       "   CustomerID Title  FirstName MiddleName LastName Suffix  \\\n",
       "0  11000       NaN   Jon        V          Yang     NaN     \n",
       "1  11001       NaN   Eugene     L          Huang    NaN     \n",
       "2  11002       NaN   Ruben      NaN        Torres   NaN     \n",
       "3  11003       NaN   Christy    NaN        Zhu      NaN     \n",
       "4  11004       NaN   Elizabeth  NaN        Johnson  NaN     \n",
       "\n",
       "          AddressLine1 AddressLine2         City StateProvinceName  \\\n",
       "0  3761 N. 14th St      NaN          Rockhampton  Queensland         \n",
       "1  2243 W St.           NaN          Seaford      Victoria           \n",
       "2  5844 Linden Land     NaN          Hobart       Tasmania           \n",
       "3  1825 Village Pl.     NaN          North Ryde   New South Wales    \n",
       "4  7553 Harness Circle  NaN          Wollongong   New South Wales    \n",
       "\n",
       "  CountryRegionName PostalCode          PhoneNumber   BirthDate   Education  \\\n",
       "0  Australia         4700       1 (11) 500 555-0162  1966-04-08  Bachelors    \n",
       "1  Australia         3198       1 (11) 500 555-0110  1965-05-14  Bachelors    \n",
       "2  Australia         7001       1 (11) 500 555-0184  1965-08-12  Bachelors    \n",
       "3  Australia         2113       1 (11) 500 555-0162  1968-02-15  Bachelors    \n",
       "4  Australia         2500       1 (11) 500 555-0131  1968-08-08  Bachelors    \n",
       "\n",
       "     Occupation Gender MaritalStatus  HomeOwnerFlag  NumberCarsOwned  \\\n",
       "0  Professional  M      M             1              0                 \n",
       "1  Professional  M      S             0              1                 \n",
       "2  Professional  M      M             1              1                 \n",
       "3  Professional  F      S             0              1                 \n",
       "4  Professional  F      S             1              4                 \n",
       "\n",
       "   NumberChildrenAtHome  TotalChildren  YearlyIncome  AveMonthSpend  \\\n",
       "0  0                     2              137947        89              \n",
       "1  3                     3              101141        117             \n",
       "2  3                     3              91945         123             \n",
       "3  0                     0              86688         50              \n",
       "4  5                     5              92771         95              \n",
       "\n",
       "   BikeBuyer  age        age_cat  has_car  \n",
       "0  0          31   between_25_45  0        \n",
       "1  1          32   between_25_45  1        \n",
       "2  0          32   between_25_45  1        \n",
       "3  0          29   between_25_45  1        \n",
       "4  1          29   between_25_45  1        "
      ]
     },
     "execution_count": 234,
     "metadata": {},
     "output_type": "execute_result"
    }
   ],
   "source": [
    "df.head()"
   ]
  },
  {
   "cell_type": "code",
   "execution_count": null,
   "metadata": {},
   "outputs": [],
   "source": []
  }
 ],
 "metadata": {
  "kernelspec": {
   "display_name": "Python 3",
   "language": "python",
   "name": "python3"
  },
  "language_info": {
   "codemirror_mode": {
    "name": "ipython",
    "version": 3
   },
   "file_extension": ".py",
   "mimetype": "text/x-python",
   "name": "python",
   "nbconvert_exporter": "python",
   "pygments_lexer": "ipython3",
   "version": "3.6.8"
  }
 },
 "nbformat": 4,
 "nbformat_minor": 4
}
